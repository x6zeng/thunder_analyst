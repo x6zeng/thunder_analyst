{
 "cells": [
  {
   "cell_type": "code",
   "execution_count": 1,
   "id": "bf34fa02",
   "metadata": {},
   "outputs": [],
   "source": [
    "import numpy as np\n",
    "import pandas as pd"
   ]
  },
  {
   "cell_type": "code",
   "execution_count": 2,
   "id": "0da789cd",
   "metadata": {},
   "outputs": [],
   "source": [
    "#Load data\n",
    "shots_df = pd.read_csv('shots_data.csv')"
   ]
  },
  {
   "cell_type": "code",
   "execution_count": 3,
   "id": "791ec529",
   "metadata": {},
   "outputs": [],
   "source": [
    "def distance_to_hoop(x, y):\n",
    "    return (x**2 + y**2)**(1/2)\n",
    "\n",
    "def assign_shot_zones(x, y):\n",
    "    if ((y<=7.8) & (distance_to_hoop(x, y) > 22)):\n",
    "        return 'Corner 3'\n",
    "    elif ((y>7.8) & (distance_to_hoop(x, y) > 23.75)):\n",
    "        return 'Non Corner 3'\n",
    "    else:\n",
    "        return 'Two Point'\n",
    "    \n",
    "#Assign shot zone\n",
    "shots_df['shot_zone'] = shots_df.apply(lambda df: assign_shot_zones(df['x'], df['y']), axis=1)"
   ]
  },
  {
   "cell_type": "code",
   "execution_count": 4,
   "id": "47c0f95e",
   "metadata": {},
   "outputs": [],
   "source": [
    "two_point_df = shots_df[shots_df['shot_zone']=='Two Point']\n",
    "corner_3_df = shots_df[shots_df['shot_zone']=='Corner 3']\n",
    "non_corner_3_df = shots_df[shots_df['shot_zone']=='Non Corner 3']"
   ]
  },
  {
   "cell_type": "markdown",
   "id": "e2ef18ed",
   "metadata": {},
   "source": [
    "### Shot distribution"
   ]
  },
  {
   "cell_type": "markdown",
   "id": "b0d1bbc9",
   "metadata": {},
   "source": [
    "#### Two Point (2PT)"
   ]
  },
  {
   "cell_type": "code",
   "execution_count": 5,
   "id": "06faa5e9",
   "metadata": {},
   "outputs": [],
   "source": [
    "shots_df_team_a = shots_df[shots_df['team']=='Team A']\n",
    "shots_df_team_b = shots_df[shots_df['team']=='Team B']\n",
    "shot_distribution_team_a = round(shots_df_team_a.groupby('shot_zone')['fgmade'].count()/shots_df_team_a.shape[0], 3)\n",
    "shot_distribution_team_b = round(shots_df_team_b.groupby('shot_zone')['fgmade'].count()/shots_df_team_b.shape[0], 3)"
   ]
  },
  {
   "cell_type": "code",
   "execution_count": 6,
   "id": "fa7eeec3",
   "metadata": {},
   "outputs": [
    {
     "data": {
      "text/plain": [
       "shot_zone\n",
       "Corner 3        0.064\n",
       "Non Corner 3    0.243\n",
       "Two Point       0.693\n",
       "Name: fgmade, dtype: float64"
      ]
     },
     "execution_count": 6,
     "metadata": {},
     "output_type": "execute_result"
    }
   ],
   "source": [
    "shot_distribution_team_a"
   ]
  },
  {
   "cell_type": "code",
   "execution_count": 7,
   "id": "ff8ca479",
   "metadata": {
    "scrolled": true
   },
   "outputs": [
    {
     "data": {
      "text/plain": [
       "shot_zone\n",
       "Corner 3        0.054\n",
       "Non Corner 3    0.277\n",
       "Two Point       0.670\n",
       "Name: fgmade, dtype: float64"
      ]
     },
     "execution_count": 7,
     "metadata": {},
     "output_type": "execute_result"
    }
   ],
   "source": [
    "shot_distribution_team_b"
   ]
  },
  {
   "cell_type": "code",
   "execution_count": 8,
   "id": "0b8ca9f5",
   "metadata": {},
   "outputs": [
    {
     "name": "stdout",
     "output_type": "stream",
     "text": [
      "The shot distribution of team A in two point is 0.693\n",
      "The shot distribution of team A in non corner 3 is 0.243\n",
      "The shot distribution of team A in corner 3 is 0.064\n",
      "The shot distribution of team B in two point is 0.67\n",
      "The shot distribution of team B in non corner 3 is 0.277\n",
      "The shot distribution of team B in corner 3 is 0.054\n"
     ]
    }
   ],
   "source": [
    "#Team A\n",
    "print('The shot distribution of team A in two point is ' + str(shot_distribution_team_a[2]))\n",
    "print('The shot distribution of team A in non corner 3 is ' + str(shot_distribution_team_a[1]))\n",
    "print('The shot distribution of team A in corner 3 is ' + str(shot_distribution_team_a[0]))\n",
    "#Team B\n",
    "print('The shot distribution of team B in two point is ' + str(shot_distribution_team_b[2]))\n",
    "print('The shot distribution of team B in non corner 3 is ' + str(shot_distribution_team_b[1]))\n",
    "print('The shot distribution of team B in corner 3 is ' + str(shot_distribution_team_b[0]))"
   ]
  },
  {
   "cell_type": "markdown",
   "id": "b8a13555",
   "metadata": {},
   "source": [
    "### Effective field goal percentage"
   ]
  },
  {
   "cell_type": "markdown",
   "id": "90305cd4",
   "metadata": {},
   "source": [
    "#### Two Point (2PT)"
   ]
  },
  {
   "cell_type": "code",
   "execution_count": 9,
   "id": "2b0a8c75",
   "metadata": {},
   "outputs": [],
   "source": [
    "team_a_two_point = two_point_df[two_point_df['team']=='Team A']\n",
    "team_a_two_point_efg = round(team_a_two_point['fgmade'].sum()/team_a_two_point.shape[0], 3)\n",
    "team_b_two_point = two_point_df[two_point_df['team']=='Team B']\n",
    "team_b_two_point_efg = round(team_b_two_point['fgmade'].sum()/team_b_two_point.shape[0], 3)"
   ]
  },
  {
   "cell_type": "markdown",
   "id": "a228ca6d",
   "metadata": {},
   "source": [
    "#### Non Corner 3 (NC3)"
   ]
  },
  {
   "cell_type": "code",
   "execution_count": 10,
   "id": "72326568",
   "metadata": {},
   "outputs": [],
   "source": [
    "team_a_non_corner_3 = non_corner_3_df[non_corner_3_df['team']=='Team A']\n",
    "team_a_non_corner_3_efg = round(team_a_non_corner_3['fgmade'].sum()*1.5/team_a_non_corner_3.shape[0], 3)\n",
    "team_b_non_corner_3 = non_corner_3_df[non_corner_3_df['team']=='Team B']\n",
    "team_b_non_corner_3_efg = round(team_b_non_corner_3['fgmade'].sum()*1.5/team_b_non_corner_3.shape[0], 3)"
   ]
  },
  {
   "cell_type": "markdown",
   "id": "ea733f1a",
   "metadata": {},
   "source": [
    "#### Corner 3 (C3)"
   ]
  },
  {
   "cell_type": "code",
   "execution_count": 11,
   "id": "41433fc2",
   "metadata": {},
   "outputs": [],
   "source": [
    "team_a_corner_3 = corner_3_df[corner_3_df['team']=='Team A']\n",
    "team_a_corner_3_efg = round(team_a_corner_3['fgmade'].sum()*1.5/team_a_corner_3.shape[0], 3)\n",
    "team_b_corner_3 = corner_3_df[corner_3_df['team']=='Team B']\n",
    "team_b_corner_3_efg = round(team_b_corner_3['fgmade'].sum()*1.5/team_b_corner_3.shape[0], 3)"
   ]
  },
  {
   "cell_type": "code",
   "execution_count": 12,
   "id": "bc6d608a",
   "metadata": {},
   "outputs": [
    {
     "name": "stdout",
     "output_type": "stream",
     "text": [
      "The effective field goal percentage of team A in two point is 0.49\n",
      "The effective field goal percentage of team A in non corner 3 is 0.463\n",
      "The effective field goal percentage of team A in corner 3 is 0.75\n",
      "The effective field goal percentage of team B in two point is 0.447\n",
      "The effective field goal percentage of team B in non corner 3 is 0.508\n",
      "The effective field goal percentage of team B in corner 3 is 0.5\n"
     ]
    }
   ],
   "source": [
    "#Team A\n",
    "print('The effective field goal percentage of team A in two point is ' + str(team_a_two_point_efg))\n",
    "print('The effective field goal percentage of team A in non corner 3 is ' + str(team_a_non_corner_3_efg))\n",
    "print('The effective field goal percentage of team A in corner 3 is ' + str(team_a_corner_3_efg))\n",
    "#Team B\n",
    "print('The effective field goal percentage of team B in two point is ' + str(team_b_two_point_efg))\n",
    "print('The effective field goal percentage of team B in non corner 3 is ' + str(team_b_non_corner_3_efg))\n",
    "print('The effective field goal percentage of team B in corner 3 is ' + str(team_b_corner_3_efg))"
   ]
  }
 ],
 "metadata": {
  "kernelspec": {
   "display_name": "Python 3",
   "language": "python",
   "name": "python3"
  },
  "language_info": {
   "codemirror_mode": {
    "name": "ipython",
    "version": 3
   },
   "file_extension": ".py",
   "mimetype": "text/x-python",
   "name": "python",
   "nbconvert_exporter": "python",
   "pygments_lexer": "ipython3",
   "version": "3.8.8"
  }
 },
 "nbformat": 4,
 "nbformat_minor": 5
}
